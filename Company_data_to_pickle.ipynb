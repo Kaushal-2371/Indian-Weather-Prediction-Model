{
 "cells": [
  {
   "cell_type": "code",
   "execution_count": null,
   "id": "2baaaadf",
   "metadata": {},
   "outputs": [],
   "source": [
    "import pymysql\n",
    "import pymongo\n",
    "import pandas as pd\n",
    "import pickle\n",
    "import numpy as np"
   ]
  },
  {
   "cell_type": "code",
   "execution_count": null,
   "id": "b9a4d895",
   "metadata": {},
   "outputs": [],
   "source": [
    "# Database connection parameters\n",
    "host = 'XXXXXX.XXXX.mongodb.net'\n",
    "port = 12XXX\n",
    "user = 'XXX-XXX-XXXX'\n",
    "password = 'XXXXXXXXXXXX'\n",
    "\n",
    "# Construcing the MongoDB URI\n",
    "mongo_uri = f\"mongodb+srv://{user}:{password}@{host}\"\n",
    "\n",
    "# Mongodb client\n",
    "client = pymongo.MongoClient(mongo_uri)\n"
   ]
  },
  {
   "cell_type": "code",
   "execution_count": null,
   "id": "339bdb92",
   "metadata": {},
   "outputs": [],
   "source": [
    "db = client.weatherPlantDB\n",
    "db.list_collection_names()"
   ]
  },
  {
   "cell_type": "code",
   "execution_count": null,
   "id": "1407464c",
   "metadata": {},
   "outputs": [],
   "source": [
    "# Fetching Table\n",
    "forcollec = db['forecast']\n",
    "document = forcollec.find_one()\n",
    "\n",
    "parameter_names = document.keys()\n",
    "pd.DataFrame(list(parameter_names))"
   ]
  },
  {
   "cell_type": "code",
   "execution_count": null,
   "id": "608aa178",
   "metadata": {},
   "outputs": [],
   "source": [
    "# Working with specific query\n",
    "\n",
    "specific_fields_query = {'datetime_local': 1, 'humidity': 1, 'latitude': 1, 'longitude': 1, 'temperature': 1, 'precipitation': 1}\n",
    "result = forcollec.find({}, specific_fields_query).limit(15)\n",
    "pd.DataFrame(list(result))"
   ]
  },
  {
   "cell_type": "markdown",
   "id": "d3f22282",
   "metadata": {},
   "source": [
    "#### Slicing the days "
   ]
  },
  {
   "cell_type": "code",
   "execution_count": null,
   "id": "0ab907fd",
   "metadata": {},
   "outputs": [],
   "source": [
    "from datetime import datetime, timedelta\n",
    "\n",
    "# Function to generate dates within the range\n",
    "def date_range(start_date, end_date):\n",
    "    current_date = start_date\n",
    "    while current_date <= end_date:\n",
    "        yield current_date\n",
    "        current_date += timedelta(days=1)\n",
    "\n",
    "# Get the specific start date (15 days ago) and end date (15 days from today)\n",
    "start_date = datetime.now() - timedelta(days=3)\n",
    "end_date = datetime.now() + timedelta(days=15)\n",
    "\n",
    "# List to store all the data\n",
    "all_data = []\n",
    "\n",
    "# Loop through the dates and query the data for each day\n",
    "for date in date_range(start_date, end_date):\n",
    "    print(date)\n",
    "    query = {'date_time': {'$gte': date, '$lt': date + timedelta(days=1)}}\n",
    "    projection = {\n",
    "        'latitude': 1,\n",
    "        'longitude': 1,\n",
    "        'temperature': 1,\n",
    "        'pressure': 1,\n",
    "        'sw_down': 1,\n",
    "        'precipitation': 1,\n",
    "        'humidity': 1,\n",
    "        'cloud_cover': 1,\n",
    "        'datetime_local':1,\n",
    "    }\n",
    "\n",
    "    cursor = table.find(query, projection)\n",
    "    data = pd.DataFrame(list(cursor))\n",
    "    all_data.append(data)\n",
    "    del data\n",
    "\n",
    "data=pd.concat(all_data)"
   ]
  },
  {
   "cell_type": "markdown",
   "id": "2f64d96f",
   "metadata": {},
   "source": [
    "#### Storingthe data in pickle format."
   ]
  },
  {
   "cell_type": "code",
   "execution_count": null,
   "id": "d2269c9c",
   "metadata": {},
   "outputs": [],
   "source": [
    "data.to_pickle(\"weather_data.pkl\")"
   ]
  }
 ],
 "metadata": {
  "kernelspec": {
   "display_name": "Python 3 (ipykernel)",
   "language": "python",
   "name": "python3"
  },
  "language_info": {
   "codemirror_mode": {
    "name": "ipython",
    "version": 3
   },
   "file_extension": ".py",
   "mimetype": "text/x-python",
   "name": "python",
   "nbconvert_exporter": "python",
   "pygments_lexer": "ipython3",
   "version": "3.11.4"
  }
 },
 "nbformat": 4,
 "nbformat_minor": 5
}
