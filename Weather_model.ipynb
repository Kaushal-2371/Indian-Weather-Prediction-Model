{
 "cells": [
  {
   "cell_type": "code",
   "execution_count": null,
   "id": "bdcddad0",
   "metadata": {},
   "outputs": [],
   "source": [
    "import pandas as pd\n",
    "import pickle"
   ]
  },
  {
   "cell_type": "code",
   "execution_count": null,
   "id": "d43160d9",
   "metadata": {},
   "outputs": [],
   "source": [
    "table = pd.read_pickle(\"weather_data.pkl\")\n",
    "table.head()"
   ]
  },
  {
   "cell_type": "code",
   "execution_count": null,
   "id": "f5dd894f",
   "metadata": {},
   "outputs": [],
   "source": [
    "table = table.drop('_id', axis=1)"
   ]
  },
  {
   "cell_type": "markdown",
   "id": "9e12c342",
   "metadata": {},
   "source": [
    "## EDA"
   ]
  },
  {
   "cell_type": "markdown",
   "id": "922d3671",
   "metadata": {},
   "source": [
    "### Basic and Manually"
   ]
  },
  {
   "cell_type": "code",
   "execution_count": null,
   "id": "c3902f24",
   "metadata": {},
   "outputs": [],
   "source": [
    "table.shape"
   ]
  },
  {
   "cell_type": "code",
   "execution_count": null,
   "id": "246915d3",
   "metadata": {},
   "outputs": [],
   "source": [
    "table.isnull().sum()"
   ]
  },
  {
   "cell_type": "code",
   "execution_count": null,
   "id": "f7be75c0",
   "metadata": {},
   "outputs": [],
   "source": [
    "table.dtypes"
   ]
  },
  {
   "cell_type": "code",
   "execution_count": null,
   "id": "cd1c38e5",
   "metadata": {},
   "outputs": [],
   "source": [
    "corr_matrix = table.corr()\n",
    "\n",
    "corr = pd.DataFrame(corr_matrix)\n",
    "corr"
   ]
  },
  {
   "cell_type": "code",
   "execution_count": null,
   "id": "22bfe25e",
   "metadata": {},
   "outputs": [],
   "source": [
    "corr_matrix['temperature'].sort_values(ascending = False)"
   ]
  },
  {
   "cell_type": "markdown",
   "id": "d596b78b",
   "metadata": {},
   "source": [
    "### With swieetviz "
   ]
  },
  {
   "cell_type": "code",
   "execution_count": null,
   "id": "21e72d4c",
   "metadata": {
    "scrolled": true
   },
   "outputs": [],
   "source": [
    "pip install sweetviz"
   ]
  },
  {
   "cell_type": "code",
   "execution_count": null,
   "id": "3d1da5b8",
   "metadata": {},
   "outputs": [],
   "source": [
    "import sweetviz\n",
    "a = sweetviz.analyze(table)\n",
    "a.show_html(\"report.html\")  # It will get stored in the folder itself"
   ]
  },
  {
   "cell_type": "markdown",
   "id": "684b7232",
   "metadata": {},
   "source": [
    "##### Want more tools like this?\n",
    "CHECK OUT -- https://www.linkedin.com/posts/kaushal-sahu_dataanalysis-datascience-eda-activity-7125097318911016960-9rH-?utm_source=share&utm_medium=member_desktop"
   ]
  },
  {
   "cell_type": "markdown",
   "id": "099a04fe",
   "metadata": {},
   "source": [
    "## Graph Analysis"
   ]
  },
  {
   "cell_type": "markdown",
   "id": "3257635c",
   "metadata": {},
   "source": [
    "#### For only Temperature column (To make it simple and informative)"
   ]
  },
  {
   "cell_type": "code",
   "execution_count": null,
   "id": "7853df8c",
   "metadata": {},
   "outputs": [],
   "source": [
    "import matplotlib.pyplot as plt\n",
    "import seaborn as sns\n",
    "sns.boxplot(table['temperature'])"
   ]
  },
  {
   "cell_type": "code",
   "execution_count": null,
   "id": "24ae4f05",
   "metadata": {},
   "outputs": [],
   "source": [
    "plt.boxplot(table['temperature'])\n",
    "\n",
    "# Set the title and labels\n",
    "plt.title(\"Box Plot of Temperature Data\")\n",
    "plt.xlabel(\"temperature\")\n",
    "\n",
    "plt.show()"
   ]
  },
  {
   "cell_type": "markdown",
   "id": "1a318e3f",
   "metadata": {},
   "source": [
    "#### Distribution Plot"
   ]
  },
  {
   "cell_type": "code",
   "execution_count": null,
   "id": "ad631e52",
   "metadata": {},
   "outputs": [],
   "source": [
    "sns.distplot(table['temperature'])\n",
    "\n",
    "sns.distplot(table['temperature'], bins= 30) #to make more bars\n",
    "sns.distplot(table['temperature'], kde= False) #to remove the line"
   ]
  },
  {
   "cell_type": "markdown",
   "id": "e0b3687b",
   "metadata": {},
   "source": [
    "## Sorting Data"
   ]
  },
  {
   "cell_type": "markdown",
   "id": "29c540cb",
   "metadata": {},
   "source": [
    "##### I used only 3 cols to show here. You can use all {according to your GPU capacity}"
   ]
  },
  {
   "cell_type": "code",
   "execution_count": null,
   "id": "71ba368b",
   "metadata": {},
   "outputs": [],
   "source": [
    "## latitude\n",
    "# data = table.query('latitude >= 5 and latitude <= 40')\n",
    "\n",
    "## longitude\n",
    "# data = data.query('longitude >= 65 and longitude <= 100')\n",
    "\n",
    "## temperature\n",
    "data = data.query('temperature >= -10 and temperature <= 40')\n",
    "\n",
    "## pressure\n",
    "# data = data.query('pressure >= 1000 and pressure <= 1020')\n",
    "\n",
    "## precipitation\n",
    "data = data.query('precipitation >= 0 and precipitation <= 100')\n",
    "\n",
    "## sw_down\n",
    "# data = data.query('sw_down >= 0 and sw_down <= 1000')\n",
    "\n",
    "## humidity\n",
    "data = data.query('humidity >= 0 and humidity <= 100')\n",
    "\n",
    "## colud_cover\n",
    "# data = data.query('cloud_cover >= 0.0 and cloud_cover <= 1.0')"
   ]
  },
  {
   "cell_type": "code",
   "execution_count": null,
   "id": "693fa3b5",
   "metadata": {},
   "outputs": [],
   "source": []
  },
  {
   "cell_type": "code",
   "execution_count": null,
   "id": "78caf129",
   "metadata": {},
   "outputs": [],
   "source": [
    "## Sorting the values\n",
    "data = data.sort_values(by=['latitude', 'longitude', 'datetime_local'])#"
   ]
  },
  {
   "cell_type": "code",
   "execution_count": null,
   "id": "87f9f079",
   "metadata": {},
   "outputs": [],
   "source": [
    "## Taking out hour\n",
    "data['Temp_Hour'] = data['datetime_local'].dt.hour\n",
    "data = data.drop(columns=\"datetime_local\")"
   ]
  },
  {
   "cell_type": "code",
   "execution_count": null,
   "id": "f5549cff",
   "metadata": {},
   "outputs": [],
   "source": [
    "## Taking the rolling mean of required columns\n",
    "\n",
    "data[\"rolling_temperature\"] = data['temperature'].rolling(window=7).mean()\n",
    "# data[\"rolling_pressure\"] = data['pressure'].rolling(window=7).mean()\n",
    "# data[\"rolling_sw_down\"] = data['sw_down'].rolling(window=7).mean()\n",
    "data[\"rolling_humidity\"] = data['humidity'].rolling(window=7).mean()"
   ]
  },
  {
   "cell_type": "code",
   "execution_count": null,
   "id": "1ef7e4cf",
   "metadata": {},
   "outputs": [],
   "source": [
    "## Taking lag values of required columns\n",
    "\n",
    "data['temperature_lag_1'] = data['temperature'].shift(1)\n",
    "# data['pressure_lag_1'] = data['pressure'].shift(1)\n",
    "# data['sw_down_lag_1'] = data['sw_down'].shift(1)\n",
    "data['humidity_lag_1'] = data['humidity'].shift(1)"
   ]
  },
  {
   "cell_type": "markdown",
   "id": "54d0a6e1",
   "metadata": {},
   "source": [
    "#### Why I used rolling, lag, temp_hour\n",
    "##### HAVE A GLANCE - https://www.analyticsvidhya.com/blog/2019/12/6-powerful-feature-engineering-techniques-time-series/"
   ]
  },
  {
   "cell_type": "markdown",
   "id": "60e32690",
   "metadata": {},
   "source": [
    "## Sampling Data"
   ]
  },
  {
   "cell_type": "code",
   "execution_count": null,
   "id": "4aa6c67c",
   "metadata": {},
   "outputs": [],
   "source": [
    "## DIRECTLY DROP THE NAN ROWS\n",
    "data.dropna(axis=0, inplace= True)\n",
    "\n",
    "## Sampling data\n",
    "data = data.sample(frac= 0.1)\n",
    "\n",
    "## Spling Train || Test data\n",
    "x = data.drop(columns=\"temperature\")\n",
    "y = data[\"temperature\"]"
   ]
  },
  {
   "cell_type": "markdown",
   "id": "42441ddb",
   "metadata": {},
   "source": [
    "## Feature selection using PCA or RFECV"
   ]
  },
  {
   "cell_type": "markdown",
   "id": "887c1d1d",
   "metadata": {},
   "source": [
    "### PCA"
   ]
  },
  {
   "cell_type": "code",
   "execution_count": null,
   "id": "5a3244b6",
   "metadata": {},
   "outputs": [],
   "source": [
    "from sklearn.decomposition import PCA\n",
    "\n",
    "pca = PCA(n_components = 5)\n",
    "pca_x = pca.fit_transform(x)"
   ]
  },
  {
   "cell_type": "code",
   "execution_count": null,
   "id": "0091df7a",
   "metadata": {},
   "outputs": [],
   "source": [
    "## Just for lEARNING PURPOSE\n",
    "\n",
    "## Recursive feature elimination cross-validation (RFECV)\n",
    "\n",
    "from sklearn.feature_selection import RFECV\n",
    "from sklearn.ensemble import RandomForestRegressor\n",
    "from sklearn.model_selection import train_test_split\n",
    "\n",
    "\n",
    "## model\n",
    "rdforest = RandomForestRegressor(n_estimators=50,\n",
    "                                   random_state=0)\n",
    "\n",
    "## making RFECV model\n",
    "rfecv = RFECV(rdforest, step=1, cv= 3)\n",
    "rfecv.fit_transform(x,y)\n",
    "\n",
    "## Splitting data\n",
    "x_train, x_test, y_train, y_test = train_test_split(x, y, test_size= 0.4, random_state= 30)\n",
    "\n",
    "## Training and Testing\n",
    "rdforest.fit(x_train, y_train)\n",
    "rdforest.score(x_test, y_test)"
   ]
  },
  {
   "cell_type": "markdown",
   "id": "a595d2cf",
   "metadata": {},
   "source": [
    "## GridSearchCV (Auto HyperParameter Tuning)"
   ]
  },
  {
   "cell_type": "code",
   "execution_count": null,
   "id": "43254c27",
   "metadata": {},
   "outputs": [],
   "source": [
    "from sklearn.model_selection import GridSearchCV\n",
    "from xgboost import XGBRegressor\n",
    "from sklearn.model_selection import train_test_split\n",
    "\n",
    "x_train, x_test, y_train, y_test = train_test_split(x, y, test_size= 0.4, random_state= 30)\n",
    "\n",
    "model = XGBRegressor()\n",
    "\n",
    "param_grid = {\n",
    "    'n_estimators': [100, 200, 500],\n",
    "    'max_depth': [3, 5, 8],\n",
    "    'learning_rate': [0.1, 0.05, 0.01],\n",
    "    'gamma': [0, 0.1, 0.5],\n",
    "}\n",
    "\n",
    "# Create a GridSearchCV object\n",
    "grid_search = GridSearchCV(model, param_grid, scoring='accuracy', cv=5)\n"
   ]
  },
  {
   "cell_type": "markdown",
   "id": "7925216c",
   "metadata": {},
   "source": [
    "## Training and Testing the data now"
   ]
  },
  {
   "cell_type": "code",
   "execution_count": null,
   "id": "631f5290",
   "metadata": {},
   "outputs": [],
   "source": [
    "import gc\n",
    "\n",
    "# Fit the GridSearchCV object to the training data\n",
    "grid_search.fit(x_train, y_train)\n",
    "\n",
    "gc.collect{}"
   ]
  },
  {
   "cell_type": "code",
   "execution_count": null,
   "id": "45fada1a",
   "metadata": {},
   "outputs": [],
   "source": [
    "best_model = grid_search.best_estimator_\n",
    "best_params = grid_search.best_params_\n",
    "best_score = grid_search.best_score_\n",
    "\n",
    "print(\"Best model:\", best_model)\n",
    "print(\"Best parameters:\", best_params)\n",
    "print(\"Best score (neg_mean_squared_error):\", best_score)"
   ]
  },
  {
   "cell_type": "code",
   "execution_count": null,
   "id": "0635d803",
   "metadata": {},
   "outputs": [],
   "source": [
    "from sklearn.metrics import mean_squared_error\n",
    "\n",
    "y_pred = best_model.predict(x_test)\n",
    "\n",
    "# mean squared error (MSE)\n",
    "mse = mean_squared_error(y_test, y_pred)\n",
    "rmse = np.sqrt(mse)  # Calculating root mean squared error (RMSE)\n",
    "\n",
    "print(\"Mean Squared Error (MSE):\", mse)\n",
    "print(\"Root Mean Squared Error (RMSE):\", rmse)"
   ]
  }
 ],
 "metadata": {
  "kernelspec": {
   "display_name": "Python 3 (ipykernel)",
   "language": "python",
   "name": "python3"
  },
  "language_info": {
   "codemirror_mode": {
    "name": "ipython",
    "version": 3
   },
   "file_extension": ".py",
   "mimetype": "text/x-python",
   "name": "python",
   "nbconvert_exporter": "python",
   "pygments_lexer": "ipython3",
   "version": "3.11.4"
  }
 },
 "nbformat": 4,
 "nbformat_minor": 5
}
